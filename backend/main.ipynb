{
 "cells": [
  {
   "cell_type": "markdown",
   "metadata": {},
   "source": [
    "### Imports"
   ]
  },
  {
   "cell_type": "code",
   "execution_count": 8,
   "metadata": {},
   "outputs": [
    {
     "data": {
      "text/plain": [
       "True"
      ]
     },
     "execution_count": 8,
     "metadata": {},
     "output_type": "execute_result"
    }
   ],
   "source": [
    "import os\n",
    "from dotenv import load_dotenv\n",
    "from llama_index import (\n",
    "    VectorStoreIndex,\n",
    "    SimpleDirectoryReader,\n",
    "    StorageContext,\n",
    "    load_index_from_storage,\n",
    ")\n",
    "from llama_index.multi_modal_llms.openai import OpenAIMultiModal\n",
    "\n",
    "load_dotenv()"
   ]
  },
  {
   "cell_type": "markdown",
   "metadata": {},
   "source": [
    "### We'll test with chapter 14: Ionic Equilibria"
   ]
  },
  {
   "cell_type": "code",
   "execution_count": 9,
   "metadata": {},
   "outputs": [],
   "source": [
    "if not os.path.exists(\"storage\"):\n",
    "    # load the documents and create the index\n",
    "    documents = SimpleDirectoryReader(\"data/14\").load_data()\n",
    "    index = VectorStoreIndex.from_documents(documents)\n",
    "    # persist the index\n",
    "    index.storage_context.persist()\n",
    "else:\n",
    "    # load the index from storage\n",
    "    storage_context = StorageContext.from_defaults(persist_dir=\"storage\")\n",
    "    index = load_index_from_storage(storage_context)\n",
    "\n",
    "\n",
    "query_engine = index.as_query_engine()"
   ]
  },
  {
   "cell_type": "markdown",
   "metadata": {},
   "source": [
    "### Ask a question on the topic"
   ]
  },
  {
   "cell_type": "code",
   "execution_count": 10,
   "metadata": {},
   "outputs": [
    {
     "data": {
      "text/plain": [
       "Response(response='Some important conjugate acid-base pairs related to foods are hypochlorous acid and hypochlorite (HClO/ClO), as well as the acid and its conjugate base in weak acids found in foods.', source_nodes=[NodeWithScore(node=TextNode(id_='eb5fb9bc-c063-43a5-b626-9b785a19d102', embedding=None, metadata={'page_label': '1', 'file_name': '14.7.1! Foods- From Cleaning and Disinfection to Microbial Nutrition and Protein Modification.pdf', 'file_path': 'data/14/14.7.1! Foods- From Cleaning and Disinfection to Microbial Nutrition and Protein Modification.pdf', 'file_type': 'application/pdf', 'file_size': 445466, 'creation_date': '2023-11-25', 'last_modified_date': '2023-11-09', 'last_accessed_date': '2023-11-25'}, excluded_embed_metadata_keys=['file_name', 'file_type', 'file_size', 'creation_date', 'last_modified_date', 'last_accessed_date'], excluded_llm_metadata_keys=['file_name', 'file_type', 'file_size', 'creation_date', 'last_modified_date', 'last_accessed_date'], relationships={<NodeRelationship.SOURCE: '1'>: RelatedNodeInfo(node_id='4f61b01f-b288-4212-83f2-e47a0c1ced91', node_type=<ObjectType.DOCUMENT: '4'>, metadata={'page_label': '1', 'file_name': '14.7.1! Foods- From Cleaning and Disinfection to Microbial Nutrition and Protein Modification.pdf', 'file_path': 'data/14/14.7.1! Foods- From Cleaning and Disinfection to Microbial Nutrition and Protein Modification.pdf', 'file_type': 'application/pdf', 'file_size': 445466, 'creation_date': '2023-11-25', 'last_modified_date': '2023-11-09', 'last_accessed_date': '2023-11-25'}, hash='941e84159efd10cf5fcb6ae43bde52ccc1411d0fc24c51006c6afb69a6824f65'), <NodeRelationship.PREVIOUS: '2'>: RelatedNodeInfo(node_id='6e0f178b-c330-4abf-b053-80fd557876c4', node_type=<ObjectType.TEXT: '1'>, metadata={'page_label': '5', 'file_name': '14.7! Conjugate Acid-Base Pairs and pH.pdf', 'file_path': 'data/14/14.7! Conjugate Acid-Base Pairs and pH.pdf', 'file_type': 'application/pdf', 'file_size': 258637, 'creation_date': '2023-11-25', 'last_modified_date': '2023-11-09', 'last_accessed_date': '2023-11-25'}, hash='6d2423533289072b88b08bc89a362287416a3e6377d371c09acf40eb9ac32e13'), <NodeRelationship.NEXT: '3'>: RelatedNodeInfo(node_id='6140f76d-e186-49ed-85ba-e375d02b0b01', node_type=<ObjectType.TEXT: '1'>, metadata={'page_label': '1', 'file_name': '14.7.1! Foods- From Cleaning and Disinfection to Microbial Nutrition and Protein Modification.pdf', 'file_path': 'data/14/14.7.1! Foods- From Cleaning and Disinfection to Microbial Nutrition and Protein Modification.pdf', 'file_type': 'application/pdf', 'file_size': 445466, 'creation_date': '2023-11-25', 'last_modified_date': '2023-11-09', 'last_accessed_date': '2023-11-25'}, hash='7acfa0c4eeb7fc7d462a62d413153366820f48406d101e43b2b7dda4afcfcd28')}, hash='d973c921492473a5f0618aa413a991793fca4675e0a90362c469fdbdf13f6868', text=\"1 4 . 7 . 1 . 1 h t t p s : / / c h e m . l i b r e t e x t s . o r g / @g o / p a g e / 5 0 8 9 414.7.1: Foods- From Cleaning and Disinfection to Microbial Nutrition and Protein\\nModification\\nHow are conjugate acid-base pairs related to microorganisms, imitation fish products, and bread baking?\\nPseudomonas aeruginosa\\n SurimiError creating thumbnail:\\n/home/luis_acs/mediawiki/htdocs/bin/ulimit4.\\nsh: line 4: /usr/bin/convert: No such file or\\ndirectory\\nYeast leavened bread\\nOne of the more useful aspects of the Brönsted-Lowry definition of acids and bases in helping us deal with the pH of solutions is\\nthe concept of the conjugate acid-base pair. The strength of an acid and its conjugate base are inversely related. The stronger one is,\\nthe weaker the other will be. The acids presented in Weak acids in foods - pH and beyond generate relatively strong bases with\\nrespect to the strength of their conjugate acid. The function of these acids and bases in foods and other biological systems largely\\ndepends on the pH of the medium. Another important conjugate acid-base pair related to foods is hypochlorous acid and\\nhypochlorite (HClO/ClO). Yes, even though this pair does not occur naturally in foods, it is of great importance in food processing.\\nNaOCl is an ideal disinfectant and possesses excellent cleaning action making it the most widely used disinfectant for processing\\nequipment, finished products, ingredients, and worker's hands in the food industry . A dynamic pair: HClO/ClO\\nSodium hypochlorite solutions are obtained by the absorption of gaseous chlorine in a sodium hydroxide solution,\\n The effectiveness of the cleaning and disinfecting activity of sodium hypochlorite\\ndepends not only on its concentration but also on the the pH of the solution. In solution, the hipochlorite ion will form\\nhypochlorous acid and hydroxide ions  generating basic solutions. As the pH of a sodium\\nhypochlorite solution decreases, between 4 and 6, HOCl becomes the predominant species. At lower pH, around 4, HOCl will be\\nconverted to chlorine gas (Cl).  Thus, depending on the pH, chlorine can exists in three\\ndifferent forms in aqueous solutions: Cl, HOCl, and ClO. Chlorine gas is extremely toxic, reason why it is so important not to mix\\nsodium hypochlorite solutions with acidic cleaning products. Commercial sodium hypochlorite solutions can be found in different\\nconcentrations ranging from 5 to 40% to which sodium chloride and alkali (usually NaOH), are added in order to ensure a solution\\nwith basic pH and reduce the corrosive effect of ClO. Commercial solutions between 5-15% NaClO contain 0.25 - 0.35% free\\nalkali and 0.5 - 1.5% NaCl. What is the relationship between conjugate acid-base pairs? How can we calculate the pH of\\ntheir solutions? The relationship between the strength of an acid and its conjugate base can be expressed quantitatively in terms of\\na very simple mathematical equation involving the appropriate acid and base constants. Suppose that we have a weak acid HA\\nwhose conjugate base is A. If either or both of these species are dissolved in HO, the following equilibria will occur\\nsimultaneously.  in which HA acts as acid and  in which A acts as base\\nTo the first of these equilibria we can apply the equilibrium constant K(HA):  while to the second we can\\napply the equilibrium constant K(A):  Multiplying these two constants together, we obtain a simple\\nrelationship between them.\", start_char_idx=None, end_char_idx=None, text_template='{metadata_str}\\n\\n{content}', metadata_template='{key}: {value}', metadata_seperator='\\n'), score=0.8890136350371229), NodeWithScore(node=TextNode(id_='6140f76d-e186-49ed-85ba-e375d02b0b01', embedding=None, metadata={'page_label': '1', 'file_name': '14.7.1! Foods- From Cleaning and Disinfection to Microbial Nutrition and Protein Modification.pdf', 'file_path': 'data/14/14.7.1! Foods- From Cleaning and Disinfection to Microbial Nutrition and Protein Modification.pdf', 'file_type': 'application/pdf', 'file_size': 445466, 'creation_date': '2023-11-25', 'last_modified_date': '2023-11-09', 'last_accessed_date': '2023-11-25'}, excluded_embed_metadata_keys=['file_name', 'file_type', 'file_size', 'creation_date', 'last_modified_date', 'last_accessed_date'], excluded_llm_metadata_keys=['file_name', 'file_type', 'file_size', 'creation_date', 'last_modified_date', 'last_accessed_date'], relationships={<NodeRelationship.SOURCE: '1'>: RelatedNodeInfo(node_id='4f61b01f-b288-4212-83f2-e47a0c1ced91', node_type=<ObjectType.DOCUMENT: '4'>, metadata={'page_label': '1', 'file_name': '14.7.1! Foods- From Cleaning and Disinfection to Microbial Nutrition and Protein Modification.pdf', 'file_path': 'data/14/14.7.1! Foods- From Cleaning and Disinfection to Microbial Nutrition and Protein Modification.pdf', 'file_type': 'application/pdf', 'file_size': 445466, 'creation_date': '2023-11-25', 'last_modified_date': '2023-11-09', 'last_accessed_date': '2023-11-25'}, hash='941e84159efd10cf5fcb6ae43bde52ccc1411d0fc24c51006c6afb69a6824f65'), <NodeRelationship.PREVIOUS: '2'>: RelatedNodeInfo(node_id='eb5fb9bc-c063-43a5-b626-9b785a19d102', node_type=<ObjectType.TEXT: '1'>, metadata={'page_label': '1', 'file_name': '14.7.1! Foods- From Cleaning and Disinfection to Microbial Nutrition and Protein Modification.pdf', 'file_path': 'data/14/14.7.1! Foods- From Cleaning and Disinfection to Microbial Nutrition and Protein Modification.pdf', 'file_type': 'application/pdf', 'file_size': 445466, 'creation_date': '2023-11-25', 'last_modified_date': '2023-11-09', 'last_accessed_date': '2023-11-25'}, hash='bf81c21b6ae03ed73fb4043100964b6467b22ab0b0658d9d16d6bd6ff65c4ba6'), <NodeRelationship.NEXT: '3'>: RelatedNodeInfo(node_id='7106614c-5226-434e-a7f6-573146a59129', node_type=<ObjectType.TEXT: '1'>, metadata={'page_label': '2', 'file_name': '14.7.1! Foods- From Cleaning and Disinfection to Microbial Nutrition and Protein Modification.pdf', 'file_path': 'data/14/14.7.1! Foods- From Cleaning and Disinfection to Microbial Nutrition and Protein Modification.pdf', 'file_type': 'application/pdf', 'file_size': 445466, 'creation_date': '2023-11-25', 'last_modified_date': '2023-11-09', 'last_accessed_date': '2023-11-25'}, hash='81b7e2a846db9dadf6d13c6aae694cd5515f38773c6ddc478cfc4940ec1e57a0')}, hash='cd8de28c898fa56786b7cbfffe4a31716ad7f1e9631ad11805a04839a120f5bc', text='What is the relationship between conjugate acid-base pairs? How can we calculate the pH of\\ntheir solutions? The relationship between the strength of an acid and its conjugate base can be expressed quantitatively in terms of\\na very simple mathematical equation involving the appropriate acid and base constants. Suppose that we have a weak acid HA\\nwhose conjugate base is A. If either or both of these species are dissolved in HO, the following equilibria will occur\\nsimultaneously.  in which HA acts as acid and  in which A acts as base\\nTo the first of these equilibria we can apply the equilibrium constant K(HA):  while to the second we can\\napply the equilibrium constant K(A):  Multiplying these two constants together, we obtain a simple\\nrelationship between them.\\n (1)\\nIf we divide both sides of this equation by the units and take negative logarithms of both sides, we obtain-\\n-\\n+2NaOH⇌NaOCL+NaCl+ O Cl2 H2\\n[1]\\n+ O⇌HOCL+ ClO−H2 OH−\\n2HOCL+ + ⇌ + O H+Cl−Cl2H2\\n2-\\n-\\n[2]\\n–\\n2\\nHA+ O⇌ + H2 H3O+A−+ O⇌HA+ A−H2 OH− –\\na (HA)= Ka[ ][ \\xa0] \\xa0H3O+\\xa0A−\\n[\\xa0HA\\xa0]\\nb–)= Kb(A− [\\xa0HA\\xa0][ \\xa0] \\xa0OH−\\n[ \\xa0]\\xa0 \\xa0A−\\n(HA)× ) Ka Kb(A−\\n\\xa0\\n\\xa0= ×[ ][] H3O+A−\\n[HA\\xa0][HA][ ] OH−\\n[]A−\\n=[ ][ ] H3O+\\xa0OH−(14.7.1.1)\\n(14.7.1.2)\\n(14.7.1.3)\\n(HA)× )= Ka Kb(A−Kw', start_char_idx=None, end_char_idx=None, text_template='{metadata_str}\\n\\n{content}', metadata_template='{key}: {value}', metadata_seperator='\\n'), score=0.8728409134054504)], metadata={'eb5fb9bc-c063-43a5-b626-9b785a19d102': {'page_label': '1', 'file_name': '14.7.1! Foods- From Cleaning and Disinfection to Microbial Nutrition and Protein Modification.pdf', 'file_path': 'data/14/14.7.1! Foods- From Cleaning and Disinfection to Microbial Nutrition and Protein Modification.pdf', 'file_type': 'application/pdf', 'file_size': 445466, 'creation_date': '2023-11-25', 'last_modified_date': '2023-11-09', 'last_accessed_date': '2023-11-25'}, '6140f76d-e186-49ed-85ba-e375d02b0b01': {'page_label': '1', 'file_name': '14.7.1! Foods- From Cleaning and Disinfection to Microbial Nutrition and Protein Modification.pdf', 'file_path': 'data/14/14.7.1! Foods- From Cleaning and Disinfection to Microbial Nutrition and Protein Modification.pdf', 'file_type': 'application/pdf', 'file_size': 445466, 'creation_date': '2023-11-25', 'last_modified_date': '2023-11-09', 'last_accessed_date': '2023-11-25'}})"
      ]
     },
     "execution_count": 10,
     "metadata": {},
     "output_type": "execute_result"
    }
   ],
   "source": [
    "response = query_engine.query(\"What are some important conjugate acid-base pair related to foods?\")\n",
    "\n",
    "response"
   ]
  }
 ],
 "metadata": {
  "kernelspec": {
   "display_name": ".venv",
   "language": "python",
   "name": "python3"
  },
  "language_info": {
   "codemirror_mode": {
    "name": "ipython",
    "version": 3
   },
   "file_extension": ".py",
   "mimetype": "text/x-python",
   "name": "python",
   "nbconvert_exporter": "python",
   "pygments_lexer": "ipython3",
   "version": "3.9.18"
  }
 },
 "nbformat": 4,
 "nbformat_minor": 2
}
